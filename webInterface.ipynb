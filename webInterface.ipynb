{
 "metadata": {
  "celltoolbar": "Slideshow",
  "name": "",
  "signature": "sha256:2d7fc9eecd9347718085fdeeeb816f00cd0b988635c04c17702f20f9ef02f933"
 },
 "nbformat": 3,
 "nbformat_minor": 0,
 "worksheets": [
  {
   "cells": [
    {
     "cell_type": "code",
     "collapsed": false,
     "input": [
      "# === top secret inner workings of this page === #\n",
      "from Unsui import splash_screen\n",
      "try:\n",
      "    splash_screen()\n",
      "except SystemExit:\n",
      "    print \"ya'll come back soon.\"\n",
      "# === end top secret stuff === #\n",
      "\n",
      "################################\n",
      "#    _   _                 _   # \n",
      "#   | | | |               (_)  #\n",
      "#   | | | |_ __  ___ _   _ _   #\n",
      "#   | | | | '_ \\/ __| | | | |  #\n",
      "#   | |_| | | | \\__ \\ |_| | |  #\n",
      "#    \\___/|_| |_|___/\\__,_|_|  #\n",
      "################################\n",
      "\n",
      "# click in this box and press ctrl+enter to play.\n",
      "# ( please don't edit the content of this box )"
     ],
     "language": "python",
     "metadata": {
      "slideshow": {
       "slide_type": "slide"
      }
     },
     "outputs": [
      {
       "output_type": "stream",
       "stream": "stdout",
       "text": [
        "\"Load\" existing game or \"start\" new game?\n"
       ]
      }
     ]
    }
   ],
   "metadata": {}
  }
 ]
}